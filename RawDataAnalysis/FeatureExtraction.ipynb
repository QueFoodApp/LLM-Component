{
 "cells": [
  {
   "cell_type": "code",
   "id": "initial_id",
   "metadata": {
    "collapsed": true,
    "ExecuteTime": {
     "end_time": "2025-01-31T21:16:20.198333Z",
     "start_time": "2025-01-31T21:16:20.192808Z"
    }
   },
   "source": [
    "import pandas as pd\n",
    "import spacy\n",
    "import re\n",
    "from IPython.display import display"
   ],
   "outputs": [],
   "execution_count": 51
  },
  {
   "metadata": {
    "ExecuteTime": {
     "end_time": "2025-01-31T21:19:16.798827Z",
     "start_time": "2025-01-31T21:19:16.288018Z"
    }
   },
   "cell_type": "code",
   "source": "nlp = spacy.load('en_core_web_sm')",
   "id": "6bb103d67de3529",
   "outputs": [],
   "execution_count": 61
  },
  {
   "metadata": {
    "ExecuteTime": {
     "end_time": "2025-01-31T21:19:17.313875Z",
     "start_time": "2025-01-31T21:19:17.299696Z"
    }
   },
   "cell_type": "code",
   "source": [
    "df_nl = pd.read_csv('../data/mock_user_inputs.csv')\n",
    "df_nl.head()"
   ],
   "id": "5187096a6ead8b69",
   "outputs": [
    {
     "data": {
      "text/plain": [
       "                                          user_input\n",
       "0  For a a young person dude trying to gain muscl...\n",
       "1  What would be a good meal for a senior citizen...\n",
       "2  What would be a good meal for a young adult ge...\n",
       "3  Can you suggest something for a in their 40s man?\n",
       "4  I am young adult and a lady, what meal would b..."
      ],
      "text/html": [
       "<div>\n",
       "<style scoped>\n",
       "    .dataframe tbody tr th:only-of-type {\n",
       "        vertical-align: middle;\n",
       "    }\n",
       "\n",
       "    .dataframe tbody tr th {\n",
       "        vertical-align: top;\n",
       "    }\n",
       "\n",
       "    .dataframe thead th {\n",
       "        text-align: right;\n",
       "    }\n",
       "</style>\n",
       "<table border=\"1\" class=\"dataframe\">\n",
       "  <thead>\n",
       "    <tr style=\"text-align: right;\">\n",
       "      <th></th>\n",
       "      <th>user_input</th>\n",
       "    </tr>\n",
       "  </thead>\n",
       "  <tbody>\n",
       "    <tr>\n",
       "      <th>0</th>\n",
       "      <td>For a a young person dude trying to gain muscl...</td>\n",
       "    </tr>\n",
       "    <tr>\n",
       "      <th>1</th>\n",
       "      <td>What would be a good meal for a senior citizen...</td>\n",
       "    </tr>\n",
       "    <tr>\n",
       "      <th>2</th>\n",
       "      <td>What would be a good meal for a young adult ge...</td>\n",
       "    </tr>\n",
       "    <tr>\n",
       "      <th>3</th>\n",
       "      <td>Can you suggest something for a in their 40s man?</td>\n",
       "    </tr>\n",
       "    <tr>\n",
       "      <th>4</th>\n",
       "      <td>I am young adult and a lady, what meal would b...</td>\n",
       "    </tr>\n",
       "  </tbody>\n",
       "</table>\n",
       "</div>"
      ]
     },
     "execution_count": 62,
     "metadata": {},
     "output_type": "execute_result"
    }
   ],
   "execution_count": 62
  },
  {
   "metadata": {
    "ExecuteTime": {
     "end_time": "2025-01-31T21:19:17.922535Z",
     "start_time": "2025-01-31T21:19:17.918617Z"
    }
   },
   "cell_type": "code",
   "source": [
    "gender_keywords = [\"man\", \"woman\", \"boy\", \"girl\", \"male\", \"female\", \"gentleman\", \"lady\", \"dude\"]\n",
    "age_number_pattern = r'\\b(\\d{1,3})\\s?(?:years?|yrs?|y/o|old)?\\b|\\b(\\d{2})s\\b'\n",
    "age_description_pattern = r'\\b(?:young|teen|teenager|adult|middle-aged|senior|elderly|child|baby|infant)\\b'"
   ],
   "id": "ee11e4147c50e0a6",
   "outputs": [],
   "execution_count": 63
  },
  {
   "metadata": {
    "ExecuteTime": {
     "end_time": "2025-01-31T21:19:19.783015Z",
     "start_time": "2025-01-31T21:19:19.775367Z"
    }
   },
   "cell_type": "code",
   "source": [
    "def extract_ner(text):\n",
    "    doc = nlp(text)\n",
    "\n",
    "    genders = [token.text for token in doc if token.text.lower() in gender_keywords]\n",
    "    numerical_ages = [int(match.group(1) or match.group(2)) for match in re.finditer(age_number_pattern, text)]\n",
    "    descriptive_ages = [match.group(0) for match in re.finditer(age_description_pattern, text)]\n",
    "\n",
    "    age_numeric = numerical_ages[0] if numerical_ages else None\n",
    "    age_descriptive = descriptive_ages[0] if descriptive_ages else None\n",
    "\n",
    "    return {\n",
    "        \"gender_terms\": genders,\n",
    "        \"age_numeric\": age_numeric,\n",
    "        \"age_descriptive\": age_descriptive\n",
    "    }"
   ],
   "id": "b399ec3077f9b3a4",
   "outputs": [],
   "execution_count": 64
  },
  {
   "metadata": {
    "ExecuteTime": {
     "end_time": "2025-01-31T21:37:16.965238Z",
     "start_time": "2025-01-31T21:37:16.958231Z"
    }
   },
   "cell_type": "code",
   "source": [
    "def calculate_meal_calories(age, gender):\n",
    "    male_keywords = {\"man\", \"boy\", \"male\", \"gentleman\", \"dude\"}\n",
    "    female_keywords = {\"woman\", \"girl\", \"female\", \"lady\"}\n",
    "\n",
    "    gender = gender.lower()\n",
    "    if gender in male_keywords:\n",
    "        weight = 85\n",
    "        height = 178\n",
    "        multiplier = 1.55\n",
    "        lower_factor = 0.9\n",
    "        upper_factor = 1.15\n",
    "        gender_offset = 5\n",
    "    elif gender in female_keywords:\n",
    "        weight = 70\n",
    "        height = 170\n",
    "        multiplier = 1.45\n",
    "        lower_factor = 0.85\n",
    "        upper_factor = 1.08\n",
    "        gender_offset = -161\n",
    "    else:\n",
    "        raise ValueError(\"Gender value not supported in list!\")\n",
    "\n",
    "    BMR = (10 * weight) + (6.25 * height) - (5 * age) + gender_offset\n",
    "    TDEE = BMR * multiplier\n",
    "    meal_calories = TDEE * 0.40\n",
    "\n",
    "    lower_calories = meal_calories * lower_factor\n",
    "    upper_calories = meal_calories * upper_factor\n",
    "\n",
    "    return round(lower_calories), round(upper_calories)"
   ],
   "id": "11a954fae5a57267",
   "outputs": [],
   "execution_count": 67
  },
  {
   "metadata": {
    "ExecuteTime": {
     "end_time": "2025-01-31T21:19:30.212661Z",
     "start_time": "2025-01-31T21:19:20.733513Z"
    }
   },
   "cell_type": "code",
   "source": [
    "df_nl[\"gender_terms\"] = df_nl[\"user_input\"].apply(lambda text: extract_ner(text)[\"gender_terms\"])\n",
    "df_nl[\"age_numeric\"] = df_nl[\"user_input\"].apply(lambda text: extract_ner(text)[\"age_numeric\"])\n",
    "df_nl[\"age_descriptive\"] = df_nl[\"user_input\"].apply(lambda text: extract_ner(text)[\"age_descriptive\"])"
   ],
   "id": "f289b17deaba2e84",
   "outputs": [],
   "execution_count": 65
  },
  {
   "metadata": {
    "ExecuteTime": {
     "end_time": "2025-01-31T21:19:32.864359Z",
     "start_time": "2025-01-31T21:19:32.853190Z"
    }
   },
   "cell_type": "code",
   "source": "df_nl",
   "id": "6011dd7157c9c2ba",
   "outputs": [
    {
     "data": {
      "text/plain": [
       "                                            user_input gender_terms  \\\n",
       "0    For a a young person dude trying to gain muscl...       [dude]   \n",
       "1    What would be a good meal for a senior citizen...        [man]   \n",
       "2    What would be a good meal for a young adult ge...  [gentleman]   \n",
       "3    Can you suggest something for a in their 40s man?        [man]   \n",
       "4    I am young adult and a lady, what meal would b...       [lady]   \n",
       "..                                                 ...          ...   \n",
       "495  As a middle-aged guy, I prefer meals high in p...           []   \n",
       "496  If I am a teenager gentleman and trying to los...  [gentleman]   \n",
       "497  I am a child dude, how much protein should I c...       [dude]   \n",
       "498  Hey, I'm a 30 years old dude, can you help me ...       [dude]   \n",
       "499  I am 50-year-old and a dude, what meal would b...       [dude]   \n",
       "\n",
       "     age_numeric age_descriptive  \n",
       "0            NaN           young  \n",
       "1            NaN          senior  \n",
       "2            NaN           young  \n",
       "3           40.0            None  \n",
       "4            NaN           young  \n",
       "..           ...             ...  \n",
       "495          NaN     middle-aged  \n",
       "496          NaN        teenager  \n",
       "497          NaN           child  \n",
       "498         30.0            None  \n",
       "499         50.0            None  \n",
       "\n",
       "[500 rows x 4 columns]"
      ],
      "text/html": [
       "<div>\n",
       "<style scoped>\n",
       "    .dataframe tbody tr th:only-of-type {\n",
       "        vertical-align: middle;\n",
       "    }\n",
       "\n",
       "    .dataframe tbody tr th {\n",
       "        vertical-align: top;\n",
       "    }\n",
       "\n",
       "    .dataframe thead th {\n",
       "        text-align: right;\n",
       "    }\n",
       "</style>\n",
       "<table border=\"1\" class=\"dataframe\">\n",
       "  <thead>\n",
       "    <tr style=\"text-align: right;\">\n",
       "      <th></th>\n",
       "      <th>user_input</th>\n",
       "      <th>gender_terms</th>\n",
       "      <th>age_numeric</th>\n",
       "      <th>age_descriptive</th>\n",
       "    </tr>\n",
       "  </thead>\n",
       "  <tbody>\n",
       "    <tr>\n",
       "      <th>0</th>\n",
       "      <td>For a a young person dude trying to gain muscl...</td>\n",
       "      <td>[dude]</td>\n",
       "      <td>NaN</td>\n",
       "      <td>young</td>\n",
       "    </tr>\n",
       "    <tr>\n",
       "      <th>1</th>\n",
       "      <td>What would be a good meal for a senior citizen...</td>\n",
       "      <td>[man]</td>\n",
       "      <td>NaN</td>\n",
       "      <td>senior</td>\n",
       "    </tr>\n",
       "    <tr>\n",
       "      <th>2</th>\n",
       "      <td>What would be a good meal for a young adult ge...</td>\n",
       "      <td>[gentleman]</td>\n",
       "      <td>NaN</td>\n",
       "      <td>young</td>\n",
       "    </tr>\n",
       "    <tr>\n",
       "      <th>3</th>\n",
       "      <td>Can you suggest something for a in their 40s man?</td>\n",
       "      <td>[man]</td>\n",
       "      <td>40.0</td>\n",
       "      <td>None</td>\n",
       "    </tr>\n",
       "    <tr>\n",
       "      <th>4</th>\n",
       "      <td>I am young adult and a lady, what meal would b...</td>\n",
       "      <td>[lady]</td>\n",
       "      <td>NaN</td>\n",
       "      <td>young</td>\n",
       "    </tr>\n",
       "    <tr>\n",
       "      <th>...</th>\n",
       "      <td>...</td>\n",
       "      <td>...</td>\n",
       "      <td>...</td>\n",
       "      <td>...</td>\n",
       "    </tr>\n",
       "    <tr>\n",
       "      <th>495</th>\n",
       "      <td>As a middle-aged guy, I prefer meals high in p...</td>\n",
       "      <td>[]</td>\n",
       "      <td>NaN</td>\n",
       "      <td>middle-aged</td>\n",
       "    </tr>\n",
       "    <tr>\n",
       "      <th>496</th>\n",
       "      <td>If I am a teenager gentleman and trying to los...</td>\n",
       "      <td>[gentleman]</td>\n",
       "      <td>NaN</td>\n",
       "      <td>teenager</td>\n",
       "    </tr>\n",
       "    <tr>\n",
       "      <th>497</th>\n",
       "      <td>I am a child dude, how much protein should I c...</td>\n",
       "      <td>[dude]</td>\n",
       "      <td>NaN</td>\n",
       "      <td>child</td>\n",
       "    </tr>\n",
       "    <tr>\n",
       "      <th>498</th>\n",
       "      <td>Hey, I'm a 30 years old dude, can you help me ...</td>\n",
       "      <td>[dude]</td>\n",
       "      <td>30.0</td>\n",
       "      <td>None</td>\n",
       "    </tr>\n",
       "    <tr>\n",
       "      <th>499</th>\n",
       "      <td>I am 50-year-old and a dude, what meal would b...</td>\n",
       "      <td>[dude]</td>\n",
       "      <td>50.0</td>\n",
       "      <td>None</td>\n",
       "    </tr>\n",
       "  </tbody>\n",
       "</table>\n",
       "<p>500 rows × 4 columns</p>\n",
       "</div>"
      ]
     },
     "execution_count": 66,
     "metadata": {},
     "output_type": "execute_result"
    }
   ],
   "execution_count": 66
  },
  {
   "metadata": {
    "ExecuteTime": {
     "end_time": "2025-01-31T19:45:48.546003Z",
     "start_time": "2025-01-31T19:45:48.504003Z"
    }
   },
   "cell_type": "code",
   "source": [
    "texts = [\n",
    "    \"He is a 25-year-old man.\",\n",
    "    \"A teenage girl won the competition.\",\n",
    "    \"An elderly woman of 70 years attended the event.\",\n",
    "    \"A 30-year-old professional was featured in the magazine.\"\n",
    "]\n",
    "\n",
    "df_text = pd.DataFrame({\"text\": texts})\n",
    "df_text[\"keywords\"] = df_text[\"text\"].apply(extract_ner)"
   ],
   "id": "9e036135d937ecc9",
   "outputs": [],
   "execution_count": 21
  },
  {
   "metadata": {
    "ExecuteTime": {
     "end_time": "2025-01-31T19:45:48.968309Z",
     "start_time": "2025-01-31T19:45:48.957311Z"
    }
   },
   "cell_type": "code",
   "source": "df_text.tail()",
   "id": "a235464c0e985c41",
   "outputs": [
    {
     "data": {
      "text/plain": [
       "                                                text  \\\n",
       "0                           He is a 25-year-old man.   \n",
       "1                A teenage girl won the competition.   \n",
       "2   An elderly woman of 70 years attended the event.   \n",
       "3  A 30-year-old professional was featured in the...   \n",
       "\n",
       "                                            keywords  \n",
       "0  {'gender_terms': ['man'], 'age_terms': ['25-ye...  \n",
       "1        {'gender_terms': ['girl'], 'age_terms': []}  \n",
       "2  {'gender_terms': ['woman'], 'age_terms': ['70 ...  \n",
       "3  {'gender_terms': [], 'age_terms': ['30-year-ol...  "
      ],
      "text/html": [
       "<div>\n",
       "<style scoped>\n",
       "    .dataframe tbody tr th:only-of-type {\n",
       "        vertical-align: middle;\n",
       "    }\n",
       "\n",
       "    .dataframe tbody tr th {\n",
       "        vertical-align: top;\n",
       "    }\n",
       "\n",
       "    .dataframe thead th {\n",
       "        text-align: right;\n",
       "    }\n",
       "</style>\n",
       "<table border=\"1\" class=\"dataframe\">\n",
       "  <thead>\n",
       "    <tr style=\"text-align: right;\">\n",
       "      <th></th>\n",
       "      <th>text</th>\n",
       "      <th>keywords</th>\n",
       "    </tr>\n",
       "  </thead>\n",
       "  <tbody>\n",
       "    <tr>\n",
       "      <th>0</th>\n",
       "      <td>He is a 25-year-old man.</td>\n",
       "      <td>{'gender_terms': ['man'], 'age_terms': ['25-ye...</td>\n",
       "    </tr>\n",
       "    <tr>\n",
       "      <th>1</th>\n",
       "      <td>A teenage girl won the competition.</td>\n",
       "      <td>{'gender_terms': ['girl'], 'age_terms': []}</td>\n",
       "    </tr>\n",
       "    <tr>\n",
       "      <th>2</th>\n",
       "      <td>An elderly woman of 70 years attended the event.</td>\n",
       "      <td>{'gender_terms': ['woman'], 'age_terms': ['70 ...</td>\n",
       "    </tr>\n",
       "    <tr>\n",
       "      <th>3</th>\n",
       "      <td>A 30-year-old professional was featured in the...</td>\n",
       "      <td>{'gender_terms': [], 'age_terms': ['30-year-ol...</td>\n",
       "    </tr>\n",
       "  </tbody>\n",
       "</table>\n",
       "</div>"
      ]
     },
     "execution_count": 22,
     "metadata": {},
     "output_type": "execute_result"
    }
   ],
   "execution_count": 22
  }
 ],
 "metadata": {
  "kernelspec": {
   "display_name": "Python 3",
   "language": "python",
   "name": "python3"
  },
  "language_info": {
   "codemirror_mode": {
    "name": "ipython",
    "version": 2
   },
   "file_extension": ".py",
   "mimetype": "text/x-python",
   "name": "python",
   "nbconvert_exporter": "python",
   "pygments_lexer": "ipython2",
   "version": "2.7.6"
  }
 },
 "nbformat": 4,
 "nbformat_minor": 5
}
