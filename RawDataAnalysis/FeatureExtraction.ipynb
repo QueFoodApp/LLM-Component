{
 "cells": [
  {
   "cell_type": "code",
   "id": "initial_id",
   "metadata": {
    "collapsed": true,
    "ExecuteTime": {
     "end_time": "2025-01-30T20:17:56.538849Z",
     "start_time": "2025-01-30T20:17:56.534851Z"
    }
   },
   "source": [
    "import pandas as pd\n",
    "import re"
   ],
   "outputs": [],
   "execution_count": 20
  },
  {
   "metadata": {
    "ExecuteTime": {
     "end_time": "2025-01-30T20:17:58.009238Z",
     "start_time": "2025-01-30T20:17:57.694612Z"
    }
   },
   "cell_type": "code",
   "source": [
    "df = pd.read_csv('../data/food_data_clean.csv')\n",
    "df = df.drop(['menu_id', 'food_description'], axis=1)\n",
    "df[['category', 'food_name', 'food_type']] = df[['category', 'food_name', 'food_type']].astype(str)"
   ],
   "id": "67c09c6859a7350b",
   "outputs": [],
   "execution_count": 21
  },
  {
   "metadata": {
    "ExecuteTime": {
     "end_time": "2025-01-30T20:18:55.450367Z",
     "start_time": "2025-01-30T20:18:55.395281Z"
    }
   },
   "cell_type": "code",
   "source": "print(df.nunique())",
   "id": "9dae031e8917d599",
   "outputs": [
    {
     "name": "stdout",
     "output_type": "stream",
     "text": [
      "restaurant_id          3703\n",
      "category               6070\n",
      "food_name             39220\n",
      "food_price             2584\n",
      "estimated_calories      109\n",
      "food_type                 8\n",
      "dtype: int64\n"
     ]
    }
   ],
   "execution_count": 24
  },
  {
   "metadata": {},
   "cell_type": "code",
   "outputs": [],
   "execution_count": null,
   "source": "",
   "id": "b399ec3077f9b3a4"
  }
 ],
 "metadata": {
  "kernelspec": {
   "display_name": "Python 3",
   "language": "python",
   "name": "python3"
  },
  "language_info": {
   "codemirror_mode": {
    "name": "ipython",
    "version": 2
   },
   "file_extension": ".py",
   "mimetype": "text/x-python",
   "name": "python",
   "nbconvert_exporter": "python",
   "pygments_lexer": "ipython2",
   "version": "2.7.6"
  }
 },
 "nbformat": 4,
 "nbformat_minor": 5
}
