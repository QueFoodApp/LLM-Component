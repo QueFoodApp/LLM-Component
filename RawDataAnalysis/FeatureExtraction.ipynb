{
 "cells": [
  {
   "cell_type": "code",
   "id": "initial_id",
   "metadata": {
    "collapsed": true,
    "ExecuteTime": {
     "end_time": "2025-02-03T01:22:42.359552Z",
     "start_time": "2025-02-03T01:22:42.356379Z"
    }
   },
   "source": [
    "import pandas as pd\n",
    "import spacy\n",
    "import re\n",
    "from IPython.display import display"
   ],
   "outputs": [],
   "execution_count": 11
  },
  {
   "metadata": {
    "ExecuteTime": {
     "end_time": "2025-02-03T01:22:42.963329Z",
     "start_time": "2025-02-03T01:22:42.956329Z"
    }
   },
   "cell_type": "code",
   "source": [
    "df_nl = pd.read_csv('../data/mock_user_inputs.csv')\n",
    "df_nl.head()"
   ],
   "id": "5187096a6ead8b69",
   "outputs": [
    {
     "data": {
      "text/plain": [
       "                                          user_input\n",
       "0  For a a young person dude trying to gain muscl...\n",
       "1  What would be a good meal for a senior citizen...\n",
       "2  What would be a good meal for a young adult ge...\n",
       "3  Can you suggest something for a in their 40s man?\n",
       "4  I am young adult and a lady, what meal would b..."
      ],
      "text/html": [
       "<div>\n",
       "<style scoped>\n",
       "    .dataframe tbody tr th:only-of-type {\n",
       "        vertical-align: middle;\n",
       "    }\n",
       "\n",
       "    .dataframe tbody tr th {\n",
       "        vertical-align: top;\n",
       "    }\n",
       "\n",
       "    .dataframe thead th {\n",
       "        text-align: right;\n",
       "    }\n",
       "</style>\n",
       "<table border=\"1\" class=\"dataframe\">\n",
       "  <thead>\n",
       "    <tr style=\"text-align: right;\">\n",
       "      <th></th>\n",
       "      <th>user_input</th>\n",
       "    </tr>\n",
       "  </thead>\n",
       "  <tbody>\n",
       "    <tr>\n",
       "      <th>0</th>\n",
       "      <td>For a a young person dude trying to gain muscl...</td>\n",
       "    </tr>\n",
       "    <tr>\n",
       "      <th>1</th>\n",
       "      <td>What would be a good meal for a senior citizen...</td>\n",
       "    </tr>\n",
       "    <tr>\n",
       "      <th>2</th>\n",
       "      <td>What would be a good meal for a young adult ge...</td>\n",
       "    </tr>\n",
       "    <tr>\n",
       "      <th>3</th>\n",
       "      <td>Can you suggest something for a in their 40s man?</td>\n",
       "    </tr>\n",
       "    <tr>\n",
       "      <th>4</th>\n",
       "      <td>I am young adult and a lady, what meal would b...</td>\n",
       "    </tr>\n",
       "  </tbody>\n",
       "</table>\n",
       "</div>"
      ]
     },
     "execution_count": 12,
     "metadata": {},
     "output_type": "execute_result"
    }
   ],
   "execution_count": 12
  },
  {
   "metadata": {
    "ExecuteTime": {
     "end_time": "2025-02-03T01:22:44.020290Z",
     "start_time": "2025-02-03T01:22:44.016507Z"
    }
   },
   "cell_type": "code",
   "source": [
    "def extract_age_gender(text):\n",
    "    \n",
    "    nlp = spacy.load('en_core_web_sm')\n",
    "    doc = nlp(text)\n",
    "\n",
    "    male_keywords = {\"man\", \"boy\", \"male\", \"gentleman\", \"dude\"}\n",
    "    female_keywords = {\"woman\", \"girl\", \"female\", \"lady\"}\n",
    "    all_gender_keywords = male_keywords | female_keywords\n",
    "    \n",
    "    # Define regex patterns for age extraction\n",
    "    age_number_pattern = r'\\b(\\d{1,3})\\s?(?:years?|yrs?|y/o|old)?\\b|\\b(\\d{2})s\\b'\n",
    "    age_description_pattern = r'\\b(?:young|teen|teenager|adult|middle-aged|senior|elderly|child|baby|infant)\\b'\n",
    "    \n",
    "    genders = [token.text.lower() for token in doc if token.text.lower() in all_gender_keywords]\n",
    "    numerical_ages = [int(match.group(1) or match.group(2)) for match in re.finditer(age_number_pattern, text)]\n",
    "    descriptive_ages = [match.group(0) for match in re.finditer(age_description_pattern, text)]\n",
    "\n",
    "    age = numerical_ages[0] if numerical_ages else None\n",
    "    gender = genders[0] if genders else None\n",
    "\n",
    "    if age is None and descriptive_ages:\n",
    "        description = descriptive_ages[0]\n",
    "        if description in {\"young\", \"teen\", \"teenager\"}:\n",
    "            age = 18\n",
    "        elif description in {\"adult\", \"middle-aged\"}:\n",
    "            age = 35\n",
    "        elif description in {\"senior\", \"elderly\"}:\n",
    "            age = 65\n",
    "        elif description in {\"child\", \"baby\", \"infant\"}:\n",
    "            age = 5\n",
    "\n",
    "    return age, gender"
   ],
   "id": "b399ec3077f9b3a4",
   "outputs": [],
   "execution_count": 13
  },
  {
   "metadata": {
    "ExecuteTime": {
     "end_time": "2025-02-03T01:22:44.620901Z",
     "start_time": "2025-02-03T01:22:44.616634Z"
    }
   },
   "cell_type": "code",
   "source": [
    "def calculate_meal_calories(age, gender):\n",
    "    \n",
    "    male_keywords = {\"man\", \"boy\", \"male\", \"gentleman\", \"dude\"}\n",
    "    female_keywords = {\"woman\", \"girl\", \"female\", \"lady\"}\n",
    "\n",
    "    gender = gender.lower()\n",
    "    if gender in male_keywords:\n",
    "        weight = 85\n",
    "        height = 178\n",
    "        multiplier = 1.55\n",
    "        lower_factor = 0.9\n",
    "        upper_factor = 1.15\n",
    "        gender_offset = 5\n",
    "    elif gender in female_keywords:\n",
    "        weight = 70\n",
    "        height = 170\n",
    "        multiplier = 1.45\n",
    "        lower_factor = 0.85\n",
    "        upper_factor = 1.08\n",
    "        gender_offset = -161\n",
    "    else:\n",
    "        raise ValueError(\"Gender value not supported in list!\")\n",
    "\n",
    "    BMR = (10 * weight) + (6.25 * height) - (5 * age) + gender_offset\n",
    "    TDEE = BMR * multiplier\n",
    "    meal_calories = TDEE * 0.40\n",
    "\n",
    "    lower_calories = meal_calories * lower_factor\n",
    "    upper_calories = meal_calories * upper_factor\n",
    "\n",
    "    return round(lower_calories), round(upper_calories)"
   ],
   "id": "11a954fae5a57267",
   "outputs": [],
   "execution_count": 14
  },
  {
   "metadata": {
    "ExecuteTime": {
     "end_time": "2025-02-03T01:22:45.254768Z",
     "start_time": "2025-02-03T01:22:45.250611Z"
    }
   },
   "cell_type": "code",
   "source": [
    "def estimate_meal_calories(user_input):\n",
    "    \n",
    "    age, gender = extract_age_gender(user_input)\n",
    "\n",
    "    if not age:\n",
    "        return \"Could not determine age from input.\"\n",
    "    if not gender:\n",
    "        return \"Could not determine gender from input.\"\n",
    "\n",
    "    return calculate_meal_calories(age, gender)"
   ],
   "id": "78a0214167dcab9e",
   "outputs": [],
   "execution_count": 15
  },
  {
   "metadata": {
    "ExecuteTime": {
     "end_time": "2025-02-03T01:32:08.560322Z",
     "start_time": "2025-02-03T01:29:25.594459Z"
    }
   },
   "cell_type": "code",
   "outputs": [],
   "execution_count": 20,
   "source": "df_nl['low_cal'], df_nl['high_cal'] = zip(*df_nl['user_input'].apply(estimate_meal_calories))",
   "id": "6011dd7157c9c2ba"
  },
  {
   "metadata": {
    "ExecuteTime": {
     "end_time": "2025-02-03T02:30:04.224467Z",
     "start_time": "2025-02-03T02:30:04.072128Z"
    }
   },
   "cell_type": "code",
   "source": "df_nl",
   "id": "506c71587ada94b6",
   "outputs": [
    {
     "ename": "NameError",
     "evalue": "name 'df_nl' is not defined",
     "output_type": "error",
     "traceback": [
      "\u001B[1;31m---------------------------------------------------------------------------\u001B[0m",
      "\u001B[1;31mNameError\u001B[0m                                 Traceback (most recent call last)",
      "Cell \u001B[1;32mIn[1], line 1\u001B[0m\n\u001B[1;32m----> 1\u001B[0m \u001B[43mdf_nl\u001B[49m\n",
      "\u001B[1;31mNameError\u001B[0m: name 'df_nl' is not defined"
     ]
    }
   ],
   "execution_count": 1
  },
  {
   "metadata": {},
   "cell_type": "code",
   "outputs": [],
   "execution_count": null,
   "source": "",
   "id": "353e4fabfb39d90"
  }
 ],
 "metadata": {
  "kernelspec": {
   "display_name": "Python 3",
   "language": "python",
   "name": "python3"
  },
  "language_info": {
   "codemirror_mode": {
    "name": "ipython",
    "version": 2
   },
   "file_extension": ".py",
   "mimetype": "text/x-python",
   "name": "python",
   "nbconvert_exporter": "python",
   "pygments_lexer": "ipython2",
   "version": "2.7.6"
  }
 },
 "nbformat": 4,
 "nbformat_minor": 5
}
