{
 "cells": [
  {
   "cell_type": "code",
   "id": "initial_id",
   "metadata": {
    "collapsed": true,
    "ExecuteTime": {
     "end_time": "2024-10-26T21:18:23.849603Z",
     "start_time": "2024-10-26T21:18:23.495887Z"
    }
   },
   "source": [
    "import psycopg2\n",
    "from psycopg2 import sql\n",
    "import pandas as pd"
   ],
   "outputs": [],
   "execution_count": 6
  },
  {
   "metadata": {
    "ExecuteTime": {
     "end_time": "2024-10-26T21:18:23.909571Z",
     "start_time": "2024-10-26T21:18:23.905332Z"
    }
   },
   "cell_type": "code",
   "source": [
    "def get_select_query_results(host, dbname, user, password, query, port=5432):\n",
    "    try:\n",
    "        # Ensure the query is a SELECT statement\n",
    "        if not query.strip().lower().startswith(\"select\"):\n",
    "            raise ValueError(\"Only SELECT queries are allowed.\")\n",
    "\n",
    "        # Connect to PostgreSQL database\n",
    "        connection = psycopg2.connect(\n",
    "            host=host,\n",
    "            database=dbname,\n",
    "            user=user,\n",
    "            password=password,\n",
    "            port=port\n",
    "        )\n",
    "        cursor = connection.cursor()\n",
    "\n",
    "        # Execute SQL query\n",
    "        cursor.execute(query)\n",
    "\n",
    "        # Fetch results\n",
    "        records = cursor.fetchall()\n",
    "        column_names = [desc[0] for desc in cursor.description]\n",
    "\n",
    "        # Convert results to a pandas DataFrame\n",
    "        df = pd.DataFrame(records, columns=column_names)\n",
    "        return df\n",
    "\n",
    "    except (Exception, psycopg2.Error) as error:\n",
    "        print(\"Error while connecting to PostgreSQL: \", error)\n",
    "    finally:\n",
    "        # Closing database connection.\n",
    "        if connection:\n",
    "            cursor.close()\n",
    "            connection.close()\n",
    "            print(\"PostgreSQL connection is closed\")"
   ],
   "id": "7e568844c204e65c",
   "outputs": [],
   "execution_count": 7
  },
  {
   "metadata": {
    "ExecuteTime": {
     "end_time": "2024-10-26T21:19:09.839008Z",
     "start_time": "2024-10-26T21:18:26.118519Z"
    }
   },
   "cell_type": "code",
   "source": "df = get_select_query_results(host=\"34.123.21.31\", dbname=\"quefoodhall\", user=\"developuser\", password=\"]&l381[czY:F@sV*\", query=\"SELECT * FROM menu_table;\")",
   "id": "fa0928f56eea025c",
   "outputs": [
    {
     "name": "stdout",
     "output_type": "stream",
     "text": [
      "PostgreSQL connection is closed\n"
     ]
    }
   ],
   "execution_count": 8
  },
  {
   "metadata": {
    "ExecuteTime": {
     "end_time": "2024-10-26T21:36:30.204571Z",
     "start_time": "2024-10-26T21:36:29.964762Z"
    }
   },
   "cell_type": "code",
   "source": "df.nunique()",
   "id": "f8971a31b2056487",
   "outputs": [
    {
     "data": {
      "text/plain": [
       "restaurant_id         3909\n",
       "menu_id                 85\n",
       "category              9261\n",
       "food_name           118255\n",
       "food_description     88552\n",
       "food_price            3833\n",
       "dtype: int64"
      ]
     },
     "execution_count": 10,
     "metadata": {},
     "output_type": "execute_result"
    }
   ],
   "execution_count": 10
  },
  {
   "metadata": {},
   "cell_type": "code",
   "outputs": [],
   "execution_count": null,
   "source": "",
   "id": "c801e58a4b915188"
  }
 ],
 "metadata": {
  "kernelspec": {
   "display_name": "Python 3",
   "language": "python",
   "name": "python3"
  },
  "language_info": {
   "codemirror_mode": {
    "name": "ipython",
    "version": 2
   },
   "file_extension": ".py",
   "mimetype": "text/x-python",
   "name": "python",
   "nbconvert_exporter": "python",
   "pygments_lexer": "ipython2",
   "version": "2.7.6"
  }
 },
 "nbformat": 4,
 "nbformat_minor": 5
}
