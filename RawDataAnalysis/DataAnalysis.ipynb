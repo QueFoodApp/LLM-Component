{
 "cells": [
  {
   "cell_type": "code",
   "id": "initial_id",
   "metadata": {
    "collapsed": true,
    "ExecuteTime": {
     "end_time": "2024-10-29T21:21:00.258784Z",
     "start_time": "2024-10-29T21:21:00.256108Z"
    }
   },
   "source": [
    "import pandas as pd\n",
    "from collections import defaultdict, Counter"
   ],
   "outputs": [],
   "execution_count": 32
  },
  {
   "metadata": {
    "ExecuteTime": {
     "end_time": "2024-10-29T21:21:00.954699Z",
     "start_time": "2024-10-29T21:21:00.477368Z"
    }
   },
   "cell_type": "code",
   "source": [
    "df_raw = pd.read_csv('../data/raw_menu_table.csv')\n",
    "df_raw = df_raw.drop(columns=['Unnamed: 0'], errors='ignore')"
   ],
   "id": "52b592c8810aaff",
   "outputs": [],
   "execution_count": 33
  },
  {
   "metadata": {
    "ExecuteTime": {
     "end_time": "2024-10-29T21:21:01.801193Z",
     "start_time": "2024-10-29T21:21:01.795227Z"
    }
   },
   "cell_type": "code",
   "source": "df_raw.head()",
   "id": "456032a9b585ccc1",
   "outputs": [
    {
     "data": {
      "text/plain": [
       "   restaurant_id  menu_id   category                     food_name  \\\n",
       "0              1        1  Smoothies             J’ Ti`’z Smoothie   \n",
       "1              1        1  Smoothies   Ti`’z Fruity Thang Smoothie   \n",
       "2              1        1  Smoothies          Ashunti`Way Smoothie   \n",
       "3              1        1  Smoothies            Jimmy Jam Smoothie   \n",
       "4              1        1  Smoothies  J’ Ti`’z Tastey Ice Smoothie   \n",
       "\n",
       "                                    food_description  food_price  \n",
       "0  Tropical fruit blend, dragon fruit mix, mango,...        5.49  \n",
       "1  Tropical fruit blend, dragon fruit mix, craisi...        5.49  \n",
       "2  Fruit n greens, mango bananas, tropical fruit ...        5.49  \n",
       "3  Berries n kale, strawberries, bananas, blueber...        5.49  \n",
       "4  Tropical fruit blend, dragon fruit, pineapple,...        5.49  "
      ],
      "text/html": [
       "<div>\n",
       "<style scoped>\n",
       "    .dataframe tbody tr th:only-of-type {\n",
       "        vertical-align: middle;\n",
       "    }\n",
       "\n",
       "    .dataframe tbody tr th {\n",
       "        vertical-align: top;\n",
       "    }\n",
       "\n",
       "    .dataframe thead th {\n",
       "        text-align: right;\n",
       "    }\n",
       "</style>\n",
       "<table border=\"1\" class=\"dataframe\">\n",
       "  <thead>\n",
       "    <tr style=\"text-align: right;\">\n",
       "      <th></th>\n",
       "      <th>restaurant_id</th>\n",
       "      <th>menu_id</th>\n",
       "      <th>category</th>\n",
       "      <th>food_name</th>\n",
       "      <th>food_description</th>\n",
       "      <th>food_price</th>\n",
       "    </tr>\n",
       "  </thead>\n",
       "  <tbody>\n",
       "    <tr>\n",
       "      <th>0</th>\n",
       "      <td>1</td>\n",
       "      <td>1</td>\n",
       "      <td>Smoothies</td>\n",
       "      <td>J’ Ti`’z Smoothie</td>\n",
       "      <td>Tropical fruit blend, dragon fruit mix, mango,...</td>\n",
       "      <td>5.49</td>\n",
       "    </tr>\n",
       "    <tr>\n",
       "      <th>1</th>\n",
       "      <td>1</td>\n",
       "      <td>1</td>\n",
       "      <td>Smoothies</td>\n",
       "      <td>Ti`’z Fruity Thang Smoothie</td>\n",
       "      <td>Tropical fruit blend, dragon fruit mix, craisi...</td>\n",
       "      <td>5.49</td>\n",
       "    </tr>\n",
       "    <tr>\n",
       "      <th>2</th>\n",
       "      <td>1</td>\n",
       "      <td>1</td>\n",
       "      <td>Smoothies</td>\n",
       "      <td>Ashunti`Way Smoothie</td>\n",
       "      <td>Fruit n greens, mango bananas, tropical fruit ...</td>\n",
       "      <td>5.49</td>\n",
       "    </tr>\n",
       "    <tr>\n",
       "      <th>3</th>\n",
       "      <td>1</td>\n",
       "      <td>1</td>\n",
       "      <td>Smoothies</td>\n",
       "      <td>Jimmy Jam Smoothie</td>\n",
       "      <td>Berries n kale, strawberries, bananas, blueber...</td>\n",
       "      <td>5.49</td>\n",
       "    </tr>\n",
       "    <tr>\n",
       "      <th>4</th>\n",
       "      <td>1</td>\n",
       "      <td>1</td>\n",
       "      <td>Smoothies</td>\n",
       "      <td>J’ Ti`’z Tastey Ice Smoothie</td>\n",
       "      <td>Tropical fruit blend, dragon fruit, pineapple,...</td>\n",
       "      <td>5.49</td>\n",
       "    </tr>\n",
       "  </tbody>\n",
       "</table>\n",
       "</div>"
      ]
     },
     "execution_count": 34,
     "metadata": {},
     "output_type": "execute_result"
    }
   ],
   "execution_count": 34
  },
  {
   "metadata": {
    "ExecuteTime": {
     "end_time": "2024-10-29T19:57:05.164205Z",
     "start_time": "2024-10-29T19:56:55.990402Z"
    }
   },
   "cell_type": "code",
   "source": [
    "# Assuming df_raw is already loaded\n",
    "# Remove 'Unnamed: 0' column if it exists\n",
    "df_raw = df_raw.drop(columns=['Unnamed: 0'], errors='ignore')\n",
    "\n",
    "# Define categories list from df_raw\n",
    "categories = [i for i in df_raw['category'].unique()]\n",
    "\n",
    "# Meal types and associated keywords\n",
    "meal_type_keywords = {\n",
    "    'breakfast': ['Breakfast', 'Morning', 'Eggs', 'Pancake'],\n",
    "    'snack': ['Appetizer', 'Starter', 'Side', 'Small'],\n",
    "    'dinner-main': ['Pizza', 'Sandwich', 'Feast', 'Lunch', 'Entree'],\n",
    "    'dinner-side': ['Soup', 'Salad', 'Side'],\n",
    "    'dessert': ['Dessert', 'Sweets', 'Cake', 'Pastry'],\n",
    "    'drinks': ['Coffee', 'Smoothie', 'Tea', 'Espresso']\n",
    "}\n",
    "\n",
    "# Calories categorization based on typical assumptions\n",
    "calorie_keywords = {\n",
    "    'high': ['Stuffed', 'Signature', 'Pizza', 'Feast', 'Dessert'],\n",
    "    'medium': ['Sandwich', 'Soup', 'Lunch', 'Grilled'],\n",
    "    'low': ['Tea', 'Smoothie', 'Salad', 'Keto']\n",
    "}\n",
    "\n",
    "# Function to categorize meal_type and calorie\n",
    "def categorize_item(item, type_keywords, calorie_keywords):\n",
    "    # Determine meal type\n",
    "    meal_type = 'Unknown'\n",
    "    for m_type, keywords in type_keywords.items():\n",
    "        if any(keyword in item for keyword in keywords):\n",
    "            meal_type = m_type\n",
    "            break\n",
    "\n",
    "    # Determine calorie level\n",
    "    calorie = 'Unknown'\n",
    "    for cal_level, keywords in calorie_keywords.items():\n",
    "        if any(keyword in item for keyword in keywords):\n",
    "            calorie = cal_level\n",
    "            break\n",
    "\n",
    "    return meal_type, calorie\n",
    "\n",
    "# Generate the expected_result dictionary\n",
    "expected_result = defaultdict(list)\n",
    "for category in categories:\n",
    "    meal_type, calorie = categorize_item(category, meal_type_keywords, calorie_keywords)\n",
    "    expected_result[category] = (meal_type, calorie)\n",
    "\n",
    "# Define a function to apply meal_type and calories based on category\n",
    "def apply_labels(category):\n",
    "    meal_type, calorie = expected_result.get(category, ('Unknown', 'Unknown'))\n",
    "    return pd.Series([meal_type, calorie])\n",
    "\n",
    "# Apply the function to add new columns in df_raw\n",
    "df_raw[['meal_type', 'calories']] = df_raw['category'].apply(apply_labels)\n",
    "\n",
    "# Print current rows to verify\n",
    "print(df_raw.head())\n",
    "\n",
    "# Calculate the number of entries with both meal_type and calories labeled\n",
    "labeled_entries = df_raw[(df_raw['meal_type'] != 'Unknown') & (df_raw['calories'] != 'Unknown')].shape[0]\n",
    "\n",
    "# Calculate the total number of entries\n",
    "total_entries = df_raw.shape[0]\n",
    "\n",
    "# Calculate the ratio\n",
    "ratio = labeled_entries / total_entries\n",
    "\n",
    "# Print the ratio\n",
    "print(f\"Ratio of labeled entries (both meal_type and calories) to total entries: {ratio:.2%}\")\n"
   ],
   "id": "df415b956ad35687",
   "outputs": [
    {
     "name": "stdout",
     "output_type": "stream",
     "text": [
      "   restaurant_id  menu_id   category                     food_name  \\\n",
      "0              1        1  Smoothies             J’ Ti`’z Smoothie   \n",
      "1              1        1  Smoothies   Ti`’z Fruity Thang Smoothie   \n",
      "2              1        1  Smoothies          Ashunti`Way Smoothie   \n",
      "3              1        1  Smoothies            Jimmy Jam Smoothie   \n",
      "4              1        1  Smoothies  J’ Ti`’z Tastey Ice Smoothie   \n",
      "\n",
      "                                    food_description  food_price meal_type  \\\n",
      "0  Tropical fruit blend, dragon fruit mix, mango,...        5.49    drinks   \n",
      "1  Tropical fruit blend, dragon fruit mix, craisi...        5.49    drinks   \n",
      "2  Fruit n greens, mango bananas, tropical fruit ...        5.49    drinks   \n",
      "3  Berries n kale, strawberries, bananas, blueber...        5.49    drinks   \n",
      "4  Tropical fruit blend, dragon fruit, pineapple,...        5.49    drinks   \n",
      "\n",
      "  calories  \n",
      "0      low  \n",
      "1      low  \n",
      "2      low  \n",
      "3      low  \n",
      "4      low  \n",
      "Ratio of labeled entries (both meal_type and calories) to total entries: 13.69%\n"
     ]
    }
   ],
   "execution_count": 21
  },
  {
   "metadata": {},
   "cell_type": "code",
   "outputs": [],
   "execution_count": null,
   "source": [
    "import re\n",
    "\n",
    "df_raw = pd.read_csv('../data/Labelled_Menu_Table.csv', encoding='ISO-8859-1')\n",
    "df_raw = df_raw.drop(columns=['Unnamed: 0'], errors='ignore')\n",
    "df_clean = df_raw[(df_raw['estimated_calories'] != 0) & (df_raw['food_type'] != \"Unknown\")]\n",
    "\n",
    "def clean_text(text):\n",
    "    return re.sub(r'[^a-zA-Z0-9\\s\\-\\'\\\"]', '', text)\n",
    "\n",
    "df_clean['food_name'] = df_clean['food_name'].astype(str).apply(clean_text)"
   ],
   "id": "997c1b52a073f6d1"
  }
 ],
 "metadata": {
  "kernelspec": {
   "display_name": "Python 3",
   "language": "python",
   "name": "python3"
  },
  "language_info": {
   "codemirror_mode": {
    "name": "ipython",
    "version": 2
   },
   "file_extension": ".py",
   "mimetype": "text/x-python",
   "name": "python",
   "nbconvert_exporter": "python",
   "pygments_lexer": "ipython2",
   "version": "2.7.6"
  }
 },
 "nbformat": 4,
 "nbformat_minor": 5
}
